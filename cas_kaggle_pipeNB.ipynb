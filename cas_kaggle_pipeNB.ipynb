{
 "cells": [
  {
   "cell_type": "markdown",
   "id": "7ecbade6",
   "metadata": {},
   "source": [
    "### Àlex Correa Orri 1564967"
   ]
  },
  {
   "cell_type": "markdown",
   "id": "b7093714",
   "metadata": {},
   "source": [
    "#### Dataset: https://www.kaggle.com/shaurov/website-classification-using-url"
   ]
  },
  {
   "cell_type": "code",
   "execution_count": 609,
   "id": "95df2eb4",
   "metadata": {
    "scrolled": true
   },
   "outputs": [
    {
     "name": "stdout",
     "output_type": "stream",
     "text": [
      "Once deleted, variables cannot be recovered. Proceed (y/[n])? y\n",
      "Don't know how to reset  (), please run `%reset?` for details\n"
     ]
    }
   ],
   "source": [
    "reset()"
   ]
  },
  {
   "cell_type": "markdown",
   "id": "8769564d",
   "metadata": {},
   "source": [
    "### MÒDULS I LLIBRERIES"
   ]
  },
  {
   "cell_type": "code",
   "execution_count": 610,
   "id": "c5fc7bf5",
   "metadata": {},
   "outputs": [],
   "source": [
    "import pandas as pd\n",
    "import seaborn as sns\n",
    "import numpy as np\n",
    "from sklearn import linear_model\n",
    "from sklearn import metrics\n",
    "from sklearn.model_selection import train_test_split\n",
    "%matplotlib inline \n",
    "from sklearn.utils import shuffle\n",
    "import matplotlib.pyplot as plt\n",
    "from numpy import array\n",
    "from numpy import argmax\n",
    "from sklearn.preprocessing import LabelEncoder\n",
    "from sklearn.preprocessing import OneHotEncoder\n",
    "from sklearn.feature_extraction.text import TfidfVectorizer\n",
    "from sklearn.feature_extraction.text import TfidfTransformer\n",
    "from sklearn.metrics import precision_recall_fscore_support\n",
    "from sklearn.naive_bayes import MultinomialNB\n",
    "from sklearn.feature_extraction.text import CountVectorizer\n",
    "from sklearn.feature_selection import chi2\n",
    "from sklearn import tree\n",
    "from sklearn.tree import DecisionTreeClassifier\n",
    "#from keras.utils import to_categorical\n",
    "from keras.models import Sequential\n",
    "from keras.layers.core import Dense, Activation\n",
    "from sklearn.pipeline import Pipeline\n",
    "from keras.utils import np_utils\n",
    "import re\n",
    "from keras.preprocessing import sequence\n",
    "from keras.preprocessing.text import one_hot\n",
    "from keras.preprocessing.text import text_to_word_sequence\n",
    "from sklearn.svm import LinearSVC\n",
    "from sklearn.linear_model import SGDClassifier\n",
    "from sklearn.metrics import classification_report\n",
    "import os\n",
    "from nltk.corpus import stopwords"
   ]
  },
  {
   "cell_type": "markdown",
   "id": "41a80f7f",
   "metadata": {},
   "source": [
    "### DIRECTORI DE TREBALL"
   ]
  },
  {
   "cell_type": "code",
   "execution_count": 611,
   "id": "3e3815ad",
   "metadata": {},
   "outputs": [
    {
     "data": {
      "text/plain": [
       "'C:\\\\Users\\\\alexc\\\\OneDrive\\\\Escritorio\\\\UNI\\\\3er\\\\Aprenentatge Computacional\\\\PRAC_KAGGLE'"
      ]
     },
     "execution_count": 611,
     "metadata": {},
     "output_type": "execute_result"
    }
   ],
   "source": [
    "os.getcwd()\n",
    "path = 'C:/Users/alexc/OneDrive/Escritorio/UNI/3er/Aprenentatge Computacional/PRAC_KAGGLE'\n",
    "os.chdir(path)\n",
    "os.getcwd()"
   ]
  },
  {
   "cell_type": "markdown",
   "id": "295c0b19",
   "metadata": {},
   "source": [
    "### LECTURA DE DADES"
   ]
  },
  {
   "cell_type": "code",
   "execution_count": 612,
   "id": "c10877a5",
   "metadata": {},
   "outputs": [],
   "source": [
    "# Carreguem dataset d'exemple\n",
    "dataset = pd.read_csv('URL_Classification.csv', names=['n', 'url', 'class'], delimiter=',', na_filter=False)"
   ]
  },
  {
   "cell_type": "markdown",
   "id": "40f48377",
   "metadata": {},
   "source": [
    "### MODIFICACIÓ DEL DATASET"
   ]
  },
  {
   "cell_type": "code",
   "execution_count": 613,
   "id": "3d8f9920",
   "metadata": {},
   "outputs": [
    {
     "name": "stdout",
     "output_type": "stream",
     "text": [
      "['Adult' 'Arts' 'Business' 'Computers' 'Games' 'Health' 'Home' 'Kids'\n",
      " 'News' 'Recreation' 'Reference' 'Science' 'Shopping' 'Society' 'Sports']\n"
     ]
    },
    {
     "data": {
      "text/plain": [
       "15"
      ]
     },
     "execution_count": 613,
     "metadata": {},
     "output_type": "execute_result"
    }
   ],
   "source": [
    "dataset=dataset.dropna()\n",
    "print(dataset['class'].unique())\n",
    "len(dataset['class'].unique())"
   ]
  },
  {
   "cell_type": "code",
   "execution_count": 614,
   "id": "afe9230b",
   "metadata": {},
   "outputs": [],
   "source": [
    "stp_w = ['www', 'http', 'com', 'comhttp', 'org', 'htmlhttp', 'htmhttp', 'edu', 'co', 'uk', 'net', 'orghttp','html','nethttp','shtmlhttp', 'ukhttp','dehttp','zahttp','jpghttp']"
   ]
  },
  {
   "cell_type": "code",
   "execution_count": 615,
   "id": "4ccf2101",
   "metadata": {},
   "outputs": [],
   "source": [
    "test_data = []\n",
    "size_per_class = 1000\n",
    "for c in dataset['class'].unique():\n",
    "    test_data.append(dataset[dataset['class'] == c][0:size_per_class])\n",
    "test_data = pd.concat([test_data[0], test_data[1],test_data[2],test_data[3],test_data[4],test_data[5], test_data[6],test_data[7],test_data[8],test_data[9],test_data[10], test_data[11],test_data[12],test_data[13],test_data[14]], axis=0)"
   ]
  },
  {
   "cell_type": "code",
   "execution_count": 616,
   "id": "8366de4f",
   "metadata": {},
   "outputs": [],
   "source": [
    "for c in dataset['class'].unique():\n",
    "    f_i = dataset[dataset['class'] == c].index[0]\n",
    "    l_i = f_i + size_per_class - 1\n",
    "    dataset.drop(dataset.index[f_i:l_i],inplace= True)\n"
   ]
  },
  {
   "cell_type": "code",
   "execution_count": 617,
   "id": "202db4af",
   "metadata": {},
   "outputs": [],
   "source": [
    "train_data = dataset"
   ]
  },
  {
   "cell_type": "code",
   "execution_count": 618,
   "id": "fc573c0f",
   "metadata": {
    "scrolled": false
   },
   "outputs": [
    {
     "data": {
      "text/plain": [
       "<AxesSubplot:xlabel='count', ylabel='class'>"
      ]
     },
     "execution_count": 618,
     "metadata": {},
     "output_type": "execute_result"
    },
    {
     "data": {
      "image/png": "[encoded data removed]",
      "text/plain": [
       "<Figure size 432x288 with 1 Axes>"
      ]
     },
     "metadata": {
      "needs_background": "light"
     },
     "output_type": "display_data"
    }
   ],
   "source": [
    "ax = sns.countplot(y = \"class\",  data = train_data)\n",
    "ax"
   ]
  },
  {
   "cell_type": "code",
   "execution_count": 619,
   "id": "1a81452c",
   "metadata": {
    "scrolled": true
   },
   "outputs": [
    {
     "data": {
      "text/plain": [
       "Text(0.5, 0, 'Number of Categories of URLs')"
      ]
     },
     "execution_count": 619,
     "metadata": {},
     "output_type": "execute_result"
    },
    {
     "data": {
      "image/png": "[encoded data removed]",
      "text/plain": [
       "<Figure size 432x288 with 1 Axes>"
      ]
     },
     "metadata": {
      "needs_background": "light"
     },
     "output_type": "display_data"
    }
   ],
   "source": [
    "ax = sns.countplot(y = \"class\",  data = test_data , color = 'gray')\n",
    "plt.title(\"Visualization of the test dataset\", y=1.01, fontsize=20)\n",
    "plt.ylabel(\"Name of the Category\", labelpad=15)\n",
    "plt.xlabel(\"Number of Categories of URLs\", labelpad=15)"
   ]
  },
  {
   "cell_type": "code",
   "execution_count": 620,
   "id": "644df398",
   "metadata": {},
   "outputs": [],
   "source": [
    "#test_data.set_index(['class', 'n']).count(level=\"class\")"
   ]
  },
  {
   "cell_type": "code",
   "execution_count": 621,
   "id": "68a7c04f",
   "metadata": {},
   "outputs": [],
   "source": [
    "X_train=train_data['url']\n",
    "y_train=train_data['class']\n",
    "#X_train, x_v, y_train, y_v = train_test_split(X_train, y_train, train_size=0.95, stratify=y_train)"
   ]
  },
  {
   "cell_type": "code",
   "execution_count": 622,
   "id": "cbab4655",
   "metadata": {},
   "outputs": [],
   "source": [
    "X_test=test_data['url']\n",
    "y_test=test_data['class']\n",
    "#X_test, x_v, y_test, y_v = train_test_split(X_test, y_test, train_size=0.95, stratify=y_test)"
   ]
  },
  {
   "cell_type": "markdown",
   "id": "35911646",
   "metadata": {},
   "source": [
    "#### Pipeline Multinomial"
   ]
  },
  {
   "cell_type": "code",
   "execution_count": 623,
   "id": "40a5cb9a",
   "metadata": {},
   "outputs": [],
   "source": [
    "vectorizer = CountVectorizer(stop_words=stopwords.words('english'), ngram_range=(3,3))\n",
    "clf = Pipeline([('vect', vectorizer), \n",
    "                   ('tfidf', TfidfTransformer()),\n",
    "                   ('clf', MultinomialNB(fit_prior=False, alpha = 0.0001)),\n",
    "                  ])\n",
    "clf = clf.fit(X_train, y_train)"
   ]
  },
  {
   "cell_type": "code",
   "execution_count": 624,
   "id": "cb62b992",
   "metadata": {},
   "outputs": [
    {
     "data": {
      "text/plain": [
       "(0.9614089865099329, 0.9601333333333333, 0.9595976305811741, None)"
      ]
     },
     "execution_count": 624,
     "metadata": {},
     "output_type": "execute_result"
    }
   ],
   "source": [
    "y_pred=clf.predict(X_test)\n",
    "precision_recall_fscore_support(y_test, y_pred, average='weighted')"
   ]
  },
  {
   "cell_type": "code",
   "execution_count": 625,
   "id": "14a5347f",
   "metadata": {},
   "outputs": [
    {
     "name": "stdout",
     "output_type": "stream",
     "text": [
      "              precision    recall  f1-score   support\n",
      "\n",
      "       Adult      0.996     0.784     0.877      1000\n",
      "        Arts      0.879     0.985     0.929      1000\n",
      "    Business      0.980     0.987     0.984      1000\n",
      "   Computers      0.980     0.958     0.969      1000\n",
      "       Games      0.984     0.986     0.985      1000\n",
      "      Health      0.987     0.999     0.993      1000\n",
      "        Home      0.955     0.997     0.976      1000\n",
      "        Kids      0.928     0.943     0.936      1000\n",
      "        News      0.951     0.990     0.970      1000\n",
      "  Recreation      0.944     0.962     0.953      1000\n",
      "   Reference      0.938     0.949     0.943      1000\n",
      "     Science      0.954     0.944     0.949      1000\n",
      "    Shopping      0.978     0.999     0.989      1000\n",
      "     Society      0.974     0.924     0.948      1000\n",
      "      Sports      0.993     0.995     0.994      1000\n",
      "\n",
      "    accuracy                          0.960     15000\n",
      "   macro avg      0.961     0.960     0.960     15000\n",
      "weighted avg      0.961     0.960     0.960     15000\n",
      "\n"
     ]
    }
   ],
   "source": [
    "print(classification_report(y_test, y_pred, digits = 3))"
   ]
  },
  {
   "cell_type": "code",
   "execution_count": null,
   "id": "297b59ad",
   "metadata": {},
   "outputs": [],
   "source": []
  },
  {
   "cell_type": "code",
   "execution_count": null,
   "id": "a99c5860",
   "metadata": {},
   "outputs": [],
   "source": []
  }
 ],
 "metadata": {
  "kernelspec": {
   "display_name": "Python 3",
   "language": "python",
   "name": "python3"
  },
  "language_info": {
   "codemirror_mode": {
    "name": "ipython",
    "version": 3
   },
   "file_extension": ".py",
   "mimetype": "text/x-python",
   "name": "python",
   "nbconvert_exporter": "python",
   "pygments_lexer": "ipython3",
   "version": "3.8.8"
  }
 },
 "nbformat": 4,
 "nbformat_minor": 5
}
